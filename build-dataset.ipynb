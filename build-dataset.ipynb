{
 "cells": [
  {
   "cell_type": "markdown",
   "metadata": {},
   "source": [
    "# Generate dataset"
   ]
  },
  {
   "cell_type": "code",
   "execution_count": 2,
   "metadata": {},
   "outputs": [],
   "source": [
    "from csrc.build import generate_from_audio\n",
    "from csrc.configurations import DatasetConfig as DC\n",
    "from utils import check_type, extract_audio, count_class\n",
    "import decoder"
   ]
  },
  {
   "cell_type": "markdown",
   "metadata": {},
   "source": [
    "## user configurations"
   ]
  },
  {
   "cell_type": "code",
   "execution_count": 2,
   "metadata": {},
   "outputs": [],
   "source": [
    "# Kowning: the name of the audio is restrained to (name-lang).xxx, you can define the name as you like but remember to add the  standard language type as lang.\n",
    "# You can name your subtitle file as your want.\n",
    "# test_clips = (r\"./src/src-test/test-eng.mp4\", r\"./src/src-test/test.ass\")\n",
    "\n",
    "\n",
    "ab = (\"./src/data movie/1.mp4\", \"./src/movie srt/1.srt\") # America beauty 美国丽人\n",
    "dbc = (\"./src/data movie/2.mp4\", \"./src/movie srt/2.srt\") # Dallas buyers club 达拉斯买家俱乐部\n",
    "#fkdsc = (\"./src/data movie/3.mp4\", \"./src/movie srt/3.srt\") # 疯狂的石头\n",
    "identity = (\"./src/data movie/4.mp4\", \"./src/movie srt/4.srt\") # Identity 致命ID\n",
    "#jjh = (\"./src/data movie/5.mp4\", \"./src/movie srt/5.srt\") # 集结号 \n",
    "kf = (\"./src/data movie/6.mp4\", \"./src/movie srt/6.srt\") # 功夫\n",
    "lac = (\"./src/data movie/7.mp4\", \"./src/movie srt/7.srt\") # LA confidential 洛城机密 \n",
    "\n",
    "\n",
    "dataset_source_long = [ab, dbc, identity, kf, lac]\n",
    "\n",
    "#katya hai insko -> fkdsc,jjh\n",
    "\n",
    "#dataset_source_short = [ab, dbc, fkdsc, identity, jjh, kf]\n",
    "\n",
    "#dataset_source_medium = [ab, dbc, fkdsc, identity, jjh, kf, lac, rzdf, sls, mi]\n",
    "\n",
    "sources = [\n",
    "    # (audio file path under src, subtitle file path correspondingly under src)\\n\",\n",
    "    *dataset_source_long\n",
    "]\n",
    "\n",
    "# Destination folder for you to store current sources clips.\n",
    "# It\"s ok if you want to store clips directly under the data folder.\n",
    "# and this won\"t effect whether you want to separate the train/test folder by yourself.\n",
    "\n",
    "dest_path = (\"./data/standard-p2-32khz\")"
   ]
  },
  {
   "cell_type": "code",
   "execution_count": 3,
   "metadata": {},
   "outputs": [
    {
     "name": "stdout",
     "output_type": "stream",
     "text": [
      "\n",
      "Label 1 instances: 189\n",
      "Label 0 instances: 234\n",
      "Total clips: 423\n",
      "\n"
     ]
    }
   ],
   "source": [
    "_, _, _ = count_class(dest_path)"
   ]
  },
  {
   "cell_type": "markdown",
   "metadata": {},
   "source": [
    "## Start auto generation"
   ]
  },
  {
   "cell_type": "code",
   "execution_count": 4,
   "metadata": {
    "tags": []
   },
   "outputs": [
    {
     "name": "stdout",
     "output_type": "stream",
     "text": [
      "Extracting audio from ./src/data movie/1.mp4\n",
      "MoviePy - Writing audio in src\\data movie\\1.wav\n"
     ]
    },
    {
     "name": "stderr",
     "output_type": "stream",
     "text": [
      "                                                                                                                       \r"
     ]
    },
    {
     "name": "stdout",
     "output_type": "stream",
     "text": [
      "MoviePy - Done.\n",
      "Extraction Successful! Writing 18100482 in src\\data movie\\1.wav.\n",
      "Extracting timestamps from the subtitle file...\n",
      "Extraction complete!\n",
      "\n",
      "Librosa loading audio...\n",
      "Loading file: src\\data movie\\1.wav\n",
      "Loading completed. Cost 10.05s\n",
      "\n",
      "Loading source file success! Using sampling rate 32000.\n",
      "\n",
      "Start building process.\n",
      "Transforming dataset...\n",
      "\n",
      "Building process finished for 1.\n",
      "Label 1 (speech) clips: 22\n",
      "Label 0 (non-speech) clips: 30 \n",
      "\n",
      "Extracting audio from ./src/data movie/2.mp4\n",
      "MoviePy - Writing audio in src\\data movie\\2.wav\n"
     ]
    },
    {
     "name": "stderr",
     "output_type": "stream",
     "text": [
      "                                                                                                                       \r"
     ]
    },
    {
     "name": "stdout",
     "output_type": "stream",
     "text": [
      "MoviePy - Done.\n",
      "Extraction Successful! Writing 21630246 in src\\data movie\\2.wav.\n",
      "Extracting timestamps from the subtitle file...\n",
      "Extraction complete!\n",
      "\n",
      "Librosa loading audio...\n",
      "Loading file: src\\data movie\\2.wav\n",
      "Loading completed. Cost 10.29s\n",
      "\n",
      "Loading source file success! Using sampling rate 32000.\n",
      "\n",
      "Start building process.\n",
      "Transforming dataset...\n",
      "\n",
      "Building process finished for 2.\n",
      "Label 1 (speech) clips: 23\n",
      "Label 0 (non-speech) clips: 39 \n",
      "\n",
      "Extracting audio from ./src/data movie/4.mp4\n",
      "MoviePy - Writing audio in src\\data movie\\4.wav\n"
     ]
    },
    {
     "name": "stderr",
     "output_type": "stream",
     "text": [
      "                                                                                                                       \r"
     ]
    },
    {
     "name": "stdout",
     "output_type": "stream",
     "text": [
      "MoviePy - Done.\n",
      "Extraction Successful! Writing 23928738 in src\\data movie\\4.wav.\n",
      "Extracting timestamps from the subtitle file...\n",
      "Extraction complete!\n",
      "\n",
      "Librosa loading audio...\n",
      "Loading file: src\\data movie\\4.wav\n",
      "Loading completed. Cost 10.78s\n",
      "\n",
      "Loading source file success! Using sampling rate 32000.\n",
      "\n",
      "Start building process.\n",
      "Transforming dataset...\n",
      "\n",
      "Building process finished for 4.\n",
      "Label 1 (speech) clips: 38\n",
      "Label 0 (non-speech) clips: 30 \n",
      "\n",
      "Extracting audio from ./src/data movie/6.mp4\n",
      "MoviePy - Writing audio in src\\data movie\\6.wav\n"
     ]
    },
    {
     "name": "stderr",
     "output_type": "stream",
     "text": [
      "                                                                                                                       \r"
     ]
    },
    {
     "name": "stdout",
     "output_type": "stream",
     "text": [
      "MoviePy - Done.\n",
      "Extraction Successful! Writing 46354466 in src\\data movie\\6.wav.\n",
      "Extracting timestamps from the subtitle file...\n",
      "Extraction complete!\n",
      "\n",
      "Librosa loading audio...\n",
      "Loading file: src\\data movie\\6.wav\n",
      "Loading completed. Cost 22.80s\n",
      "\n",
      "Loading source file success! Using sampling rate 32000.\n",
      "\n",
      "Start building process.\n",
      "Transforming dataset...\n",
      "\n",
      "Building process finished for 6.\n",
      "Label 1 (speech) clips: 53\n",
      "Label 0 (non-speech) clips: 79 \n",
      "\n",
      "Extracting audio from ./src/data movie/7.mp4\n",
      "MoviePy - Writing audio in src\\data movie\\7.wav\n"
     ]
    },
    {
     "name": "stderr",
     "output_type": "stream",
     "text": [
      "                                                                                                                       \r"
     ]
    },
    {
     "name": "stdout",
     "output_type": "stream",
     "text": [
      "MoviePy - Done.\n",
      "Extraction Successful! Writing 38407650 in src\\data movie\\7.wav.\n",
      "Extracting timestamps from the subtitle file...\n",
      "Extraction complete!\n",
      "\n",
      "Librosa loading audio...\n",
      "Loading file: src\\data movie\\7.wav\n",
      "Loading completed. Cost 17.56s\n",
      "\n",
      "Loading source file success! Using sampling rate 32000.\n",
      "\n",
      "Start building process.\n",
      "Transforming dataset...\n",
      "\n",
      "Building process finished for 7.\n",
      "Label 1 (speech) clips: 53\n",
      "Label 0 (non-speech) clips: 56 \n",
      "\n"
     ]
    }
   ],
   "source": [
    "for source_file_path, subtitle_file_path in sources: \n",
    "    if subtitle_file_path.split(\".\")[-1] in [\"ass\", \"ssa\"]:\n",
    "        subtitle_decoder = decoder.ASSDecoder\n",
    "    if subtitle_file_path.split(\".\")[-1]==\"srt\":\n",
    "        subtitle_decoder = decoder.SRTDecoder   \n",
    "    is_video = check_type(source_file_path)\n",
    "    audio_file_path = extract_audio(source_file_path, format=DC.dataset_audio_format) if is_video else source_file_path\n",
    "    generate_from_audio(audio_path=audio_file_path, sub_path=subtitle_file_path, dest_path=dest_path, sub_decoder=subtitle_decoder,  verbose=False)"
   ]
  },
  {
   "cell_type": "code",
   "execution_count": 5,
   "metadata": {},
   "outputs": [
    {
     "name": "stdout",
     "output_type": "stream",
     "text": [
      "\n",
      "Label 1 instances: 189\n",
      "Label 0 instances: 234\n",
      "Total clips: 423\n",
      "\n"
     ]
    }
   ],
   "source": [
    "_, _, _ = count_class(dest_path)"
   ]
  },
  {
   "cell_type": "markdown",
   "metadata": {},
   "source": [
    "### LOG\n",
    "\n",
    "Building process finished for american-beauty-eng.\n",
    "Label 1 (speech) clips: 2087\n",
    "Label 0 (non-speech) clips: 1564 \n",
    "\n",
    "Building process finished for dallas-buyers-club-eng.\n",
    "Label 1 (speech) clips: 2086\n",
    "Label 0 (non-speech) clips: 1423 \n",
    "\n",
    "Building process finished for src-fkdsc.\n",
    "Label 1 (speech) clips: 1820\n",
    "Label 0 (non-speech) clips: 1309 \n",
    "\n",
    "Building process finished for src-identity.\n",
    "Label 1 (speech) clips: 1584\n",
    "Label 0 (non-speech) clips: 1118 \n",
    "\n",
    "Building process finished for src-jjh.\n",
    "Label 1 (speech) clips: 2232\n",
    "Label 0 (non-speech) clips: 1484 \n",
    "\n",
    "Building process finished for src-kong-fu.\n",
    "Label 1 (speech) clips: 1124\n",
    "Label 0 (non-speech) clips: 1859 \n",
    "\n",
    "Building process finished for src-la-confidential.\n",
    "Label 1 (speech) clips: 2747\n",
    "Label 0 (non-speech) clips: 1390 \n",
    "\n",
    "Building process finished for src-rzdf.\n",
    "Label 1 (speech) clips: 3124\n",
    "Label 0 (non-speech) clips: 842 \n",
    "\n",
    "Building process finished for src-shaolin-soccer.\n",
    "Label 1 (speech) clips: 1635\n",
    "Label 0 (non-speech) clips: 1655 \n",
    "\n",
    "Building process finished for src-mission-impossible-iv.\n",
    "Label 1 (speech) clips: 1990\n",
    "Label 0 (non-speech) clips: 1999 \n",
    "\n",
    "Building process finished for the-dark-knight-rises-eng.\n",
    "Label 1 (speech) clips: 3046\n",
    "Label 0 (non-speech) clips: 1891 \n",
    "\n",
    "Building process finished for the-kingdom-of-heaven-eng.\n",
    "Label 1 (speech) clips: 2379\n",
    "Label 0 (non-speech) clips: 3308 \n",
    "\n",
    "Building process finished for the-kings-speech-eng.\n",
    "Label 1 (speech) clips: 2419\n",
    "Label 0 (non-speech) clips: 1136 \n",
    "\n",
    "Building process finished for src-the-matrix-reloaded.\n",
    "Label 1 (speech) clips: 441\n",
    "Label 0 (non-speech) clips: 3707 \n",
    "\n",
    "Building process finished for src-the-warlords.\n",
    "Label 1 (speech) clips: 1669\n",
    "Label 0 (non-speech) clips: 2102 \n",
    "\n",
    "TOTAL: \n",
    "Label 1 instances: 30383\n",
    "Label 0 instances: 26787\n",
    "Total clips: 57170\n"
   ]
  }
 ],
 "metadata": {
  "kernelspec": {
   "display_name": "Python 3 (ipykernel)",
   "language": "python",
   "name": "python3"
  },
  "language_info": {
   "codemirror_mode": {
    "name": "ipython",
    "version": 3
   },
   "file_extension": ".py",
   "mimetype": "text/x-python",
   "name": "python",
   "nbconvert_exporter": "python",
   "pygments_lexer": "ipython3",
   "version": "3.9.7"
  }
 },
 "nbformat": 4,
 "nbformat_minor": 2
}
